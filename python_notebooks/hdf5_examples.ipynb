{
 "cells": [
  {
   "cell_type": "markdown",
   "metadata": {},
   "source": [
    "### Examples for HDF5 files"
   ]
  },
  {
   "cell_type": "code",
   "execution_count": 1,
   "metadata": {},
   "outputs": [],
   "source": [
    "import h5py\n",
    "import matplotlib.pyplot as plt\n",
    "import math"
   ]
  },
  {
   "cell_type": "markdown",
   "metadata": {},
   "source": [
    "#### Dig through objects to see data (note other stuff like dims in there)"
   ]
  },
  {
   "cell_type": "code",
   "execution_count": 9,
   "metadata": {},
   "outputs": [],
   "source": [
    "f = h5py.File('../fortran_heat_src/heat_2D/initial_dat.hdf5')"
   ]
  },
  {
   "cell_type": "code",
   "execution_count": 6,
   "metadata": {},
   "outputs": [
    {
     "data": {
      "text/plain": [
       "<KeysViewHDF5 ['temperatures', 'temperatures_full']>"
      ]
     },
     "execution_count": 6,
     "metadata": {},
     "output_type": "execute_result"
    }
   ],
   "source": [
    "f['Step0'].keys()"
   ]
  },
  {
   "cell_type": "code",
   "execution_count": 7,
   "metadata": {
    "scrolled": true
   },
   "outputs": [
    {
     "data": {
      "text/plain": [
       "array([[ 4.80000019,  4.80000019,  4.80000019,  4.80000019,  4.80000019,\n",
       "         4.80000019,  4.80000019,  4.80000019,  4.80000019,  4.80000019,\n",
       "         4.80000019,  4.80000019,  4.80000019,  4.80000019,  4.80000019,\n",
       "         4.80000019,  4.80000019,  4.80000019,  4.80000019,  4.80000019,\n",
       "         4.80000019,  4.80000019],\n",
       "       [ 4.80000019,  1.        , -1.56909057, -0.19098279,  1.03024854,\n",
       "        -1.92705116, -1.99999996, -1.30901663,  2.2058198 ,  1.42705021,\n",
       "         0.33302316,  3.        , -1.30901663,  2.2058198 ,  1.42705021,\n",
       "         0.33302316,  3.        ,  0.33302175,  1.42705214,  2.2058182 ,\n",
       "        -1.30901784,  4.80000019],\n",
       "       [ 4.80000019, -1.1266272 , -3.69571777, -2.31760999, -1.09637866,\n",
       "        -4.05367836, -4.12662716, -3.43564383,  0.0791926 , -0.69957699,\n",
       "        -1.79360404,  0.8733728 , -3.43564383,  0.0791926 , -0.69957699,\n",
       "        -1.79360404,  0.8733728 , -1.79360545, -0.69957506,  0.079191  ,\n",
       "        -3.43564504,  4.80000019],\n",
       "       [ 4.80000019,  2.31432797, -0.2547626 ,  1.12334517,  2.34457651,\n",
       "        -0.61272319, -0.68567199,  0.00531134,  3.52014777,  2.74137818,\n",
       "         1.64735113,  4.31432797,  0.00531134,  3.52014777,  2.74137818,\n",
       "         1.64735113,  4.31432797,  1.64734972,  2.7413801 ,  3.52014617,\n",
       "         0.00531012,  4.80000019],\n",
       "       [ 4.80000019, -0.3143275 , -2.88341807, -1.50531029, -0.28407896,\n",
       "        -3.24137866, -3.31432746, -2.62334413,  0.8914923 ,  0.11272271,\n",
       "        -0.98130434,  1.6856725 , -2.62334413,  0.8914923 ,  0.11272271,\n",
       "        -0.98130434,  1.6856725 , -0.98130575,  0.11272464,  0.8914907 ,\n",
       "        -2.62334534,  4.80000019],\n",
       "       [ 4.80000019,  3.1266263 ,  0.55753573,  1.93564351,  3.15687484,\n",
       "         0.19957514,  0.12662634,  0.81760967,  4.3324461 ,  3.55367651,\n",
       "         2.45964946,  5.1266263 ,  0.81760967,  4.3324461 ,  3.55367651,\n",
       "         2.45964946,  5.1266263 ,  2.45964805,  3.55367844,  4.3324445 ,\n",
       "         0.81760846,  4.80000019],\n",
       "       [ 4.80000019,  4.80000019,  4.80000019,  4.80000019,  4.80000019,\n",
       "         4.80000019,  4.80000019,  4.80000019,  4.80000019,  4.80000019,\n",
       "         4.80000019,  4.80000019,  4.80000019,  4.80000019,  4.80000019,\n",
       "         4.80000019,  4.80000019,  4.80000019,  4.80000019,  4.80000019,\n",
       "         4.80000019,  4.80000019]])"
      ]
     },
     "execution_count": 7,
     "metadata": {},
     "output_type": "execute_result"
    }
   ],
   "source": [
    "f['Step2']['temperatures_full'][()]"
   ]
  },
  {
   "cell_type": "code",
   "execution_count": 15,
   "metadata": {},
   "outputs": [
    {
     "data": {
      "text/plain": [
       "['temperatures']"
      ]
     },
     "execution_count": 15,
     "metadata": {},
     "output_type": "execute_result"
    }
   ],
   "source": [
    "list(data.keys())"
   ]
  },
  {
   "cell_type": "code",
   "execution_count": 76,
   "metadata": {},
   "outputs": [],
   "source": [
    "temps = data['temperatures']"
   ]
  },
  {
   "cell_type": "code",
   "execution_count": 17,
   "metadata": {},
   "outputs": [
    {
     "data": {
      "text/plain": [
       "<HDF5 dataset \"temperatures\": shape (5, 20), type \"<f8\">"
      ]
     },
     "execution_count": 17,
     "metadata": {},
     "output_type": "execute_result"
    }
   ],
   "source": [
    "temps"
   ]
  },
  {
   "cell_type": "code",
   "execution_count": 19,
   "metadata": {},
   "outputs": [
    {
     "data": {
      "text/plain": [
       "array([[ 0.55753663,  3.1266272 ,  0.55753663,  1.93564441,  3.15687574,\n",
       "         0.19957604,  0.12662725,  0.81761057,  4.332447  ,  3.55367742,\n",
       "         0.19957604,  0.12662725,  0.81761057,  4.332447  ,  3.55367742,\n",
       "         2.45965037,  5.1266272 ,  2.45964895,  3.55367934,  4.3324454 ],\n",
       "       [ 2.45965037,  5.1266272 , -1.56909057,  1.        , -1.56909057,\n",
       "        -0.19098279,  1.03024854, -1.92705116, -1.99999996, -1.30901663,\n",
       "         0.81760936,  0.12662707, -1.92705116, -1.99999996, -1.30901663,\n",
       "         2.2058198 ,  1.42705021,  0.33302316,  3.        ,  0.33302175],\n",
       "       [ 2.2058198 ,  1.42705021,  0.33302316,  3.        , -3.69571777,\n",
       "        -1.1266272 , -3.69571777, -2.31760999, -1.09637866, -4.05367836,\n",
       "         1.42705214,  2.2058182 , -1.30901784, -2.00000013, -4.05367836,\n",
       "        -4.12662716, -3.43564383,  0.0791926 , -0.69957699, -1.79360404],\n",
       "       [-4.12662716, -3.43564383,  0.0791926 , -0.69957699, -1.79360404,\n",
       "         0.8733728 , -0.2547626 ,  2.31432797, -0.2547626 ,  1.12334517,\n",
       "         0.8733728 , -1.79360545, -0.69957506,  0.079191  , -3.43564504,\n",
       "        -4.12662733, -0.61272319, -0.68567199,  0.00531134,  3.52014777],\n",
       "       [ 2.34457651, -0.61272319, -0.68567199,  0.00531134,  3.52014777,\n",
       "         2.74137818,  1.64735113,  4.31432797, -2.88341807, -0.3143275 ,\n",
       "         2.74137818,  1.64735113,  4.31432797,  1.64734972,  2.7413801 ,\n",
       "         3.52014617,  0.00531012, -0.68567216, -3.24137866, -3.31432746]])"
      ]
     },
     "execution_count": 19,
     "metadata": {},
     "output_type": "execute_result"
    }
   ],
   "source": [
    "# this is how to get the data?\n",
    "temps[()]"
   ]
  },
  {
   "cell_type": "markdown",
   "metadata": {},
   "source": [
    "#### Plots"
   ]
  },
  {
   "cell_type": "code",
   "execution_count": null,
   "metadata": {},
   "outputs": [],
   "source": [
    "# how to get dimensions (without using numpy??)"
   ]
  },
  {
   "cell_type": "code",
   "execution_count": 32,
   "metadata": {},
   "outputs": [
    {
     "data": {
      "text/plain": [
       "[]"
      ]
     },
     "execution_count": 32,
     "metadata": {},
     "output_type": "execute_result"
    }
   ],
   "source": [
    "temps.dims[0].values()"
   ]
  },
  {
   "cell_type": "code",
   "execution_count": 77,
   "metadata": {},
   "outputs": [],
   "source": [
    "actual_data = temps[()]"
   ]
  },
  {
   "cell_type": "code",
   "execution_count": 41,
   "metadata": {},
   "outputs": [
    {
     "data": {
      "text/plain": [
       "array([1., 1., 1., 1., 1., 1., 1.])"
      ]
     },
     "execution_count": 41,
     "metadata": {},
     "output_type": "execute_result"
    }
   ],
   "source": [
    "f['Step0']['temperatures_full'][:,10]\n"
   ]
  },
  {
   "cell_type": "code",
   "execution_count": 58,
   "metadata": {},
   "outputs": [
    {
     "data": {
      "image/png": "[encoded data removed]",
      "text/plain": [
       "<Figure size 504x1728 with 1 Axes>"
      ]
     },
     "metadata": {
      "needs_background": "light"
     },
     "output_type": "display_data"
    }
   ],
   "source": [
    "actual_data = f['Step2']['temperatures_full']\n",
    "fig = plt.figure(figsize=(actual_data.shape[0],\n",
    "                          actual_data.shape[1]))\n",
    "plt.imshow(actual_data)\n",
    "plt.title(\"Initial temperatures\")\n",
    "plt.show()"
   ]
  },
  {
   "cell_type": "code",
   "execution_count": 57,
   "metadata": {},
   "outputs": [
    {
     "data": {
      "image/png": "[encoded data removed]",
      "text/plain": [
       "<Figure size 432x288 with 10 Axes>"
      ]
     },
     "metadata": {
      "needs_background": "light"
     },
     "output_type": "display_data"
    }
   ],
   "source": [
    "f = h5py.File('../fortran_heat_src/heat_2D/initial_dat.hdf5')\n",
    "\n",
    "myfig, axis = plt.subplots(5,2)\n",
    "\n",
    "#why are x and y not reversed? (hdf5 puts y,x)\n",
    "for i in range(10):\n",
    "    index = (math.floor(i/2)%5,i%2)\n",
    "    actual_data = f['Step{}'.format(i)]['temperatures_full']\n",
    "    axis[index[0],index[1]].imshow(actual_data) #note matplotlib can read hdf5 datasets?\n",
    "\n",
    "plt.show()    "
   ]
  },
  {
   "cell_type": "code",
   "execution_count": 17,
   "metadata": {},
   "outputs": [
    {
     "data": {
      "text/plain": [
       "(array([4.80000019, 2.10750243, 1.04451419, 0.7782667 , 1.10443041,\n",
       "        2.16743664, 4.80000019]),\n",
       " array([4.80000019, 0.        , 0.        , 0.        , 0.        ,\n",
       "        0.        , 4.80000019]))"
      ]
     },
     "execution_count": 17,
     "metadata": {},
     "output_type": "execute_result"
    }
   ],
   "source": [
    "actual_data[:,10], actual_data[:,11]"
   ]
  },
  {
   "cell_type": "code",
   "execution_count": 20,
   "metadata": {},
   "outputs": [
    {
     "data": {
      "text/plain": [
       "(7, 11)"
      ]
     },
     "execution_count": 20,
     "metadata": {},
     "output_type": "execute_result"
    }
   ],
   "source": [
    "actual_data[:,0:11].shape"
   ]
  },
  {
   "cell_type": "code",
   "execution_count": 19,
   "metadata": {},
   "outputs": [
    {
     "data": {
      "text/plain": [
       "(7, 11)"
      ]
     },
     "execution_count": 19,
     "metadata": {},
     "output_type": "execute_result"
    }
   ],
   "source": [
    "actual_data[:,11:].shape"
   ]
  },
  {
   "cell_type": "code",
   "execution_count": null,
   "metadata": {},
   "outputs": [],
   "source": []
  }
 ],
 "metadata": {
  "kernelspec": {
   "display_name": "Python 3",
   "language": "python",
   "name": "python3"
  },
  "language_info": {
   "codemirror_mode": {
    "name": "ipython",
    "version": 3
   },
   "file_extension": ".py",
   "mimetype": "text/x-python",
   "name": "python",
   "nbconvert_exporter": "python",
   "pygments_lexer": "ipython3",
   "version": "3.7.4"
  }
 },
 "nbformat": 4,
 "nbformat_minor": 2
}
