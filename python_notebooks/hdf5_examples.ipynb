{
 "cells": [
  {
   "cell_type": "markdown",
   "metadata": {},
   "source": [
    "### Examples for HDF5 files"
   ]
  },
  {
   "cell_type": "code",
   "execution_count": 21,
   "metadata": {},
   "outputs": [],
   "source": [
    "import h5py\n",
    "import matplotlib.pyplot as plt"
   ]
  },
  {
   "cell_type": "markdown",
   "metadata": {},
   "source": [
    "#### Dig through objects to see data (note other stuff like dims in there)"
   ]
  },
  {
   "cell_type": "code",
   "execution_count": 2,
   "metadata": {},
   "outputs": [],
   "source": [
    "f = h5py.File('../fortran_heat_src/heat_2D/initial_dat.hdf5')"
   ]
  },
  {
   "cell_type": "code",
   "execution_count": 12,
   "metadata": {},
   "outputs": [
    {
     "data": {
      "text/plain": [
       "['Step0']"
      ]
     },
     "execution_count": 12,
     "metadata": {},
     "output_type": "execute_result"
    }
   ],
   "source": [
    "list(f.keys())"
   ]
  },
  {
   "cell_type": "code",
   "execution_count": 13,
   "metadata": {},
   "outputs": [],
   "source": [
    "data = f['Step0']"
   ]
  },
  {
   "cell_type": "code",
   "execution_count": 15,
   "metadata": {},
   "outputs": [
    {
     "data": {
      "text/plain": [
       "['temperatures']"
      ]
     },
     "execution_count": 15,
     "metadata": {},
     "output_type": "execute_result"
    }
   ],
   "source": [
    "list(data.keys())"
   ]
  },
  {
   "cell_type": "code",
   "execution_count": 16,
   "metadata": {},
   "outputs": [],
   "source": [
    "temps = data['temperatures']"
   ]
  },
  {
   "cell_type": "code",
   "execution_count": 17,
   "metadata": {},
   "outputs": [
    {
     "data": {
      "text/plain": [
       "<HDF5 dataset \"temperatures\": shape (5, 20), type \"<f8\">"
      ]
     },
     "execution_count": 17,
     "metadata": {},
     "output_type": "execute_result"
    }
   ],
   "source": [
    "temps"
   ]
  },
  {
   "cell_type": "code",
   "execution_count": 19,
   "metadata": {},
   "outputs": [
    {
     "data": {
      "text/plain": [
       "array([[ 0.55753663,  3.1266272 ,  0.55753663,  1.93564441,  3.15687574,\n",
       "         0.19957604,  0.12662725,  0.81761057,  4.332447  ,  3.55367742,\n",
       "         0.19957604,  0.12662725,  0.81761057,  4.332447  ,  3.55367742,\n",
       "         2.45965037,  5.1266272 ,  2.45964895,  3.55367934,  4.3324454 ],\n",
       "       [ 2.45965037,  5.1266272 , -1.56909057,  1.        , -1.56909057,\n",
       "        -0.19098279,  1.03024854, -1.92705116, -1.99999996, -1.30901663,\n",
       "         0.81760936,  0.12662707, -1.92705116, -1.99999996, -1.30901663,\n",
       "         2.2058198 ,  1.42705021,  0.33302316,  3.        ,  0.33302175],\n",
       "       [ 2.2058198 ,  1.42705021,  0.33302316,  3.        , -3.69571777,\n",
       "        -1.1266272 , -3.69571777, -2.31760999, -1.09637866, -4.05367836,\n",
       "         1.42705214,  2.2058182 , -1.30901784, -2.00000013, -4.05367836,\n",
       "        -4.12662716, -3.43564383,  0.0791926 , -0.69957699, -1.79360404],\n",
       "       [-4.12662716, -3.43564383,  0.0791926 , -0.69957699, -1.79360404,\n",
       "         0.8733728 , -0.2547626 ,  2.31432797, -0.2547626 ,  1.12334517,\n",
       "         0.8733728 , -1.79360545, -0.69957506,  0.079191  , -3.43564504,\n",
       "        -4.12662733, -0.61272319, -0.68567199,  0.00531134,  3.52014777],\n",
       "       [ 2.34457651, -0.61272319, -0.68567199,  0.00531134,  3.52014777,\n",
       "         2.74137818,  1.64735113,  4.31432797, -2.88341807, -0.3143275 ,\n",
       "         2.74137818,  1.64735113,  4.31432797,  1.64734972,  2.7413801 ,\n",
       "         3.52014617,  0.00531012, -0.68567216, -3.24137866, -3.31432746]])"
      ]
     },
     "execution_count": 19,
     "metadata": {},
     "output_type": "execute_result"
    }
   ],
   "source": [
    "# this is how to get the data?\n",
    "temps[()]"
   ]
  },
  {
   "cell_type": "markdown",
   "metadata": {},
   "source": [
    "#### Plots"
   ]
  },
  {
   "cell_type": "code",
   "execution_count": null,
   "metadata": {},
   "outputs": [],
   "source": [
    "# how to get dimensions (without using numpy??)"
   ]
  },
  {
   "cell_type": "code",
   "execution_count": 32,
   "metadata": {},
   "outputs": [
    {
     "data": {
      "text/plain": [
       "[]"
      ]
     },
     "execution_count": 32,
     "metadata": {},
     "output_type": "execute_result"
    }
   ],
   "source": [
    "temps.dims[0].values()"
   ]
  },
  {
   "cell_type": "code",
   "execution_count": 33,
   "metadata": {},
   "outputs": [],
   "source": [
    "actual_data = temps[()]"
   ]
  },
  {
   "cell_type": "code",
   "execution_count": 35,
   "metadata": {},
   "outputs": [
    {
     "data": {
      "image/png": "[encoded data removed]",
      "text/plain": [
       "<Figure size 360x1440 with 1 Axes>"
      ]
     },
     "metadata": {
      "needs_background": "light"
     },
     "output_type": "display_data"
    }
   ],
   "source": [
    "fig = plt.figure(figsize=(actual_data.shape[0],\n",
    "                          actual_data.shape[1]))\n",
    "plt.imshow(actual_data)\n",
    "plt.title(\"Initial temperatures\")\n",
    "plt.show()"
   ]
  },
  {
   "cell_type": "code",
   "execution_count": null,
   "metadata": {},
   "outputs": [],
   "source": []
  }
 ],
 "metadata": {
  "kernelspec": {
   "display_name": "Python 3",
   "language": "python",
   "name": "python3"
  },
  "language_info": {
   "codemirror_mode": {
    "name": "ipython",
    "version": 3
   },
   "file_extension": ".py",
   "mimetype": "text/x-python",
   "name": "python",
   "nbconvert_exporter": "python",
   "pygments_lexer": "ipython3",
   "version": "3.7.4"
  }
 },
 "nbformat": 4,
 "nbformat_minor": 2
}
